{
 "cells": [
  {
   "cell_type": "markdown",
   "id": "5be7dc29",
   "metadata": {},
   "source": [
    "To run this code you are going to have to create a virtual enviornment, and then install libraries in that virtual enviornment."
   ]
  },
  {
   "cell_type": "code",
   "execution_count": 5,
   "id": "1d7c833d",
   "metadata": {},
   "outputs": [
    {
     "data": {
      "text/html": [
       "<div>\n",
       "<style scoped>\n",
       "    .dataframe tbody tr th:only-of-type {\n",
       "        vertical-align: middle;\n",
       "    }\n",
       "\n",
       "    .dataframe tbody tr th {\n",
       "        vertical-align: top;\n",
       "    }\n",
       "\n",
       "    .dataframe thead th {\n",
       "        text-align: right;\n",
       "    }\n",
       "</style>\n",
       "<table border=\"1\" class=\"dataframe\">\n",
       "  <thead>\n",
       "    <tr style=\"text-align: right;\">\n",
       "      <th></th>\n",
       "      <th>IsSpam</th>\n",
       "      <th>Text</th>\n",
       "    </tr>\n",
       "  </thead>\n",
       "  <tbody>\n",
       "    <tr>\n",
       "      <th>0</th>\n",
       "      <td>0</td>\n",
       "      <td>key issues going forwarda year end reviews rep...</td>\n",
       "    </tr>\n",
       "    <tr>\n",
       "      <th>1</th>\n",
       "      <td>0</td>\n",
       "      <td>congrats contratulations the execution the cen...</td>\n",
       "    </tr>\n",
       "    <tr>\n",
       "      <th>2</th>\n",
       "      <td>0</td>\n",
       "      <td>key issues going forwardall under control set...</td>\n",
       "    </tr>\n",
       "    <tr>\n",
       "      <th>3</th>\n",
       "      <td>0</td>\n",
       "      <td>epmi files protest entergy transcoattached our...</td>\n",
       "    </tr>\n",
       "    <tr>\n",
       "      <th>4</th>\n",
       "      <td>0</td>\n",
       "      <td>california power please contact kristin walsh ...</td>\n",
       "    </tr>\n",
       "  </tbody>\n",
       "</table>\n",
       "</div>"
      ],
      "text/plain": [
       "   IsSpam                                               Text\n",
       "0       0  key issues going forwarda year end reviews rep...\n",
       "1       0  congrats contratulations the execution the cen...\n",
       "2       0   key issues going forwardall under control set...\n",
       "3       0  epmi files protest entergy transcoattached our...\n",
       "4       0  california power please contact kristin walsh ..."
      ]
     },
     "execution_count": 5,
     "metadata": {},
     "output_type": "execute_result"
    }
   ],
   "source": [
    "from keras.preprocessing.text import Tokenizer\n",
    "from keras.layers import Dense, Flatten\n",
    "from tensorflow.keras.layers import Embedding\n",
    "from keras.models import Sequential\n",
    "from keras.layers import Dense, Conv1D, MaxPooling1D, GlobalMaxPooling1D\n",
    "from keras.utils import pad_sequences\n",
    "import pandas as pd\n",
    "\n",
    "df = pd.read_csv('data/ham-vs-spam.csv')\n",
    "df.head()"
   ]
  },
  {
   "cell_type": "code",
   "execution_count": 6,
   "id": "93b9ac27",
   "metadata": {},
   "outputs": [
    {
     "data": {
      "text/html": [
       "<div>\n",
       "<style scoped>\n",
       "    .dataframe tbody tr th:only-of-type {\n",
       "        vertical-align: middle;\n",
       "    }\n",
       "\n",
       "    .dataframe tbody tr th {\n",
       "        vertical-align: top;\n",
       "    }\n",
       "\n",
       "    .dataframe thead tr th {\n",
       "        text-align: left;\n",
       "    }\n",
       "\n",
       "    .dataframe thead tr:last-of-type th {\n",
       "        text-align: right;\n",
       "    }\n",
       "</style>\n",
       "<table border=\"1\" class=\"dataframe\">\n",
       "  <thead>\n",
       "    <tr>\n",
       "      <th></th>\n",
       "      <th colspan=\"4\" halign=\"left\">Text</th>\n",
       "    </tr>\n",
       "    <tr>\n",
       "      <th></th>\n",
       "      <th>count</th>\n",
       "      <th>unique</th>\n",
       "      <th>top</th>\n",
       "      <th>freq</th>\n",
       "    </tr>\n",
       "    <tr>\n",
       "      <th>IsSpam</th>\n",
       "      <th></th>\n",
       "      <th></th>\n",
       "      <th></th>\n",
       "      <th></th>\n",
       "    </tr>\n",
       "  </thead>\n",
       "  <tbody>\n",
       "    <tr>\n",
       "      <th>0</th>\n",
       "      <td>499</td>\n",
       "      <td>499</td>\n",
       "      <td>key issues going forwarda year end reviews rep...</td>\n",
       "      <td>1</td>\n",
       "    </tr>\n",
       "    <tr>\n",
       "      <th>1</th>\n",
       "      <td>500</td>\n",
       "      <td>500</td>\n",
       "      <td>take the reinsbecomeyour employer substantial ...</td>\n",
       "      <td>1</td>\n",
       "    </tr>\n",
       "  </tbody>\n",
       "</table>\n",
       "</div>"
      ],
      "text/plain": [
       "        Text                                                               \n",
       "       count unique                                                top freq\n",
       "IsSpam                                                                     \n",
       "0        499    499  key issues going forwarda year end reviews rep...    1\n",
       "1        500    500  take the reinsbecomeyour employer substantial ...    1"
      ]
     },
     "execution_count": 6,
     "metadata": {},
     "output_type": "execute_result"
    }
   ],
   "source": [
    "df = df.drop_duplicates()\n",
    "df.groupby('IsSpam').describe()"
   ]
  },
  {
   "cell_type": "code",
   "execution_count": 7,
   "id": "35a14f10",
   "metadata": {},
   "outputs": [],
   "source": [
    "X = df['Text']\n",
    "y = df['IsSpam']\n",
    "\n",
    "X_text = X"
   ]
  },
  {
   "cell_type": "code",
   "execution_count": 8,
   "id": "711ea140",
   "metadata": {},
   "outputs": [
    {
     "name": "stdout",
     "output_type": "stream",
     "text": [
      "(999, 500)\n"
     ]
    }
   ],
   "source": [
    "import keras \n",
    "\n",
    "max_words = 20000\n",
    "max_length = 500\n",
    " \n",
    "tokenizer = keras.preprocessing.text.Tokenizer(num_words=max_words)\n",
    "\n",
    "tokenizer.fit_on_texts(X)\n",
    "\n",
    "sequences = tokenizer.texts_to_sequences(X)\n",
    "\n",
    "X = keras.utils.pad_sequences(sequences, maxlen=max_length)\n",
    "print(X.shape)"
   ]
  },
  {
   "cell_type": "code",
   "execution_count": null,
   "id": "3cb28ade",
   "metadata": {},
   "outputs": [],
   "source": []
  },
  {
   "cell_type": "code",
   "execution_count": 9,
   "id": "7bc3e7ee",
   "metadata": {},
   "outputs": [
    {
     "name": "stdout",
     "output_type": "stream",
     "text": [
      "604 key\n",
      "144 issues\n",
      "166 going\n",
      "5753 forwarda\n",
      "123 year\n",
      "203 end\n",
      "1277 reviews\n",
      "141 report\n",
      "459 needs\n",
      "1527 generating\n",
      "55 like\n",
      "817 mid\n",
      "123 year\n",
      "4422 documenting\n",
      "67 business\n",
      "504 unit\n",
      "380 performance\n",
      "167 review\n",
      "1890 completion\n",
      "134 david\n",
      "121 john\n",
      "113 work\n",
      "31 out\n",
      "135 plan\n",
      "397 generation\n",
      "3 for\n",
      "1 the\n",
      "5754 nim\n",
      "144 issues\n",
      "855 employees\n",
      "134 david\n",
      "121 john\n",
      "381 hpl\n",
      "1000 transition\n",
      "144 issues\n",
      "1891 ongoing\n",
      "2221 officially\n",
      "953 transferred\n",
      "2222 regardsdelainey\n"
     ]
    }
   ],
   "source": [
    "first_document_tokens = X[0] \n",
    "for ix in first_document_tokens:\n",
    "    try:\n",
    "        print(ix, tokenizer.index_word[ix])\n",
    "    except:\n",
    "        pass"
   ]
  },
  {
   "cell_type": "code",
   "execution_count": 10,
   "id": "b17f4ab6",
   "metadata": {},
   "outputs": [
    {
     "data": {
      "text/plain": [
       "'key issues going forwarda year end reviews report needs generating like mid year documenting business unit performance review completion david john work out plan generation for the nim issues employees david john hpl transition issues ongoing officially transferred regardsdelainey'"
      ]
     },
     "execution_count": 10,
     "metadata": {},
     "output_type": "execute_result"
    }
   ],
   "source": [
    "X_text[0]"
   ]
  },
  {
   "cell_type": "code",
   "execution_count": 11,
   "id": "9cee19fc",
   "metadata": {},
   "outputs": [
    {
     "name": "stdout",
     "output_type": "stream",
     "text": [
      "Model: \"sequential\"\n",
      "_________________________________________________________________\n",
      " Layer (type)                Output Shape              Param #   \n",
      "=================================================================\n",
      " embedding (Embedding)       (None, 500, 32)           640000    \n",
      "                                                                 \n",
      " flatten (Flatten)           (None, 16000)             0         \n",
      "                                                                 \n",
      " dense (Dense)               (None, 128)               2048128   \n",
      "                                                                 \n",
      " dense_1 (Dense)             (None, 1)                 129       \n",
      "                                                                 \n",
      "=================================================================\n",
      "Total params: 2,688,257\n",
      "Trainable params: 2,688,257\n",
      "Non-trainable params: 0\n",
      "_________________________________________________________________\n"
     ]
    },
    {
     "name": "stderr",
     "output_type": "stream",
     "text": [
      "2022-10-18 14:53:43.355687: I tensorflow/core/platform/cpu_feature_guard.cc:193] This TensorFlow binary is optimized with oneAPI Deep Neural Network Library (oneDNN) to use the following CPU instructions in performance-critical operations:  AVX2 FMA\n",
      "To enable them in other operations, rebuild TensorFlow with the appropriate compiler flags.\n"
     ]
    }
   ],
   "source": [
    "\n",
    "model = Sequential() \n",
    "model.add(Embedding(max_words, 32, input_length=max_length)) \n",
    "model.add(Flatten())\n",
    "model.add(Dense(128, activation='relu'))\n",
    "model.add(Dense(1, activation='sigmoid'))\n",
    "model.compile(loss='binary_crossentropy', optimizer='adam', metrics=['accuracy']) \n",
    "model.summary()"
   ]
  },
  {
   "cell_type": "markdown",
   "id": "27d354f0",
   "metadata": {},
   "source": [
    "The Embedding layer can be understood as a lookup table that maps from integer indices (which stand for specific words) to dense vectors (their embeddings). The dimensionality (or width) of the embedding is a parameter you can experiment with to see what works well for your problem, much in the same way you would experiment with the number of neurons in a Dense layer."
   ]
  },
  {
   "cell_type": "code",
   "execution_count": 12,
   "id": "889155af",
   "metadata": {},
   "outputs": [
    {
     "data": {
      "text/plain": [
       "<tf.Tensor: shape=(500, 32), dtype=float32, numpy=\n",
       "array([[-0.02049553, -0.02695425, -0.01555074, ...,  0.03139217,\n",
       "         0.03338884,  0.01152526],\n",
       "       [-0.02049553, -0.02695425, -0.01555074, ...,  0.03139217,\n",
       "         0.03338884,  0.01152526],\n",
       "       [-0.02049553, -0.02695425, -0.01555074, ...,  0.03139217,\n",
       "         0.03338884,  0.01152526],\n",
       "       ...,\n",
       "       [ 0.02602316,  0.02507647, -0.03376352, ..., -0.04978791,\n",
       "        -0.04838909,  0.0334493 ],\n",
       "       [ 0.014298  , -0.03897952,  0.03265046, ...,  0.03540099,\n",
       "        -0.00783032,  0.04098997],\n",
       "       [-0.04122814, -0.03707061, -0.02434843, ...,  0.01075182,\n",
       "        -0.03893123,  0.00335512]], dtype=float32)>"
      ]
     },
     "execution_count": 12,
     "metadata": {},
     "output_type": "execute_result"
    }
   ],
   "source": [
    "# https://www.tensorflow.org/text/guide/word_embeddings\n",
    "embedding_layer = Embedding(max_words, 32, input_length=max_length)\n",
    "embedding_layer(X[0])"
   ]
  },
  {
   "cell_type": "code",
   "execution_count": 13,
   "id": "812bc000",
   "metadata": {},
   "outputs": [
    {
     "name": "stdout",
     "output_type": "stream",
     "text": [
      "Epoch 1/10\n"
     ]
    },
    {
     "name": "stderr",
     "output_type": "stream",
     "text": [
      "/Users/zacharydesario/research/NN_with_tf_3/env/lib/python3.8/site-packages/keras/engine/data_adapter.py:1699: FutureWarning: The behavior of `series[i:j]` with an integer-dtype index is deprecated. In a future version, this will be treated as *label-based* indexing, consistent with e.g. `series[i]` lookups. To retain the old behavior, use `series.iloc[i:j]`. To get the future behavior, use `series.loc[i:j]`.\n",
      "  return t[start:end]\n"
     ]
    },
    {
     "name": "stdout",
     "output_type": "stream",
     "text": [
      "40/40 [==============================] - 1s 17ms/step - loss: 0.6466 - accuracy: 0.6133 - val_loss: 0.8515 - val_accuracy: 0.0000e+00\n",
      "Epoch 2/10\n",
      "40/40 [==============================] - 0s 10ms/step - loss: 0.3200 - accuracy: 0.8798 - val_loss: 0.7186 - val_accuracy: 0.5050\n",
      "Epoch 3/10\n",
      "40/40 [==============================] - 0s 10ms/step - loss: 0.0679 - accuracy: 0.9862 - val_loss: 0.3405 - val_accuracy: 0.8400\n",
      "Epoch 4/10\n",
      "40/40 [==============================] - 0s 10ms/step - loss: 0.0211 - accuracy: 0.9962 - val_loss: 0.3797 - val_accuracy: 0.8100\n",
      "Epoch 5/10\n",
      "40/40 [==============================] - 0s 10ms/step - loss: 0.0097 - accuracy: 1.0000 - val_loss: 0.2428 - val_accuracy: 0.8900\n",
      "Epoch 6/10\n",
      "40/40 [==============================] - 0s 10ms/step - loss: 0.0057 - accuracy: 0.9987 - val_loss: 0.2653 - val_accuracy: 0.8750\n",
      "Epoch 7/10\n",
      "40/40 [==============================] - 0s 10ms/step - loss: 0.0039 - accuracy: 1.0000 - val_loss: 0.2363 - val_accuracy: 0.8850\n",
      "Epoch 8/10\n",
      "40/40 [==============================] - 0s 9ms/step - loss: 0.0031 - accuracy: 1.0000 - val_loss: 0.2817 - val_accuracy: 0.8600\n",
      "Epoch 9/10\n",
      "40/40 [==============================] - 0s 10ms/step - loss: 0.0022 - accuracy: 1.0000 - val_loss: 0.2304 - val_accuracy: 0.8850\n",
      "Epoch 10/10\n",
      "40/40 [==============================] - 0s 10ms/step - loss: 0.0013 - accuracy: 1.0000 - val_loss: 0.1316 - val_accuracy: 0.9400\n"
     ]
    }
   ],
   "source": [
    "hist = model.fit(X, y, validation_split=0.2, epochs=10, batch_size=20)"
   ]
  },
  {
   "cell_type": "code",
   "execution_count": 14,
   "id": "a5aa3c94",
   "metadata": {},
   "outputs": [
    {
     "data": {
      "text/plain": [
       "[]"
      ]
     },
     "execution_count": 14,
     "metadata": {},
     "output_type": "execute_result"
    },
    {
     "data": {
      "image/png": "[encoded data removed]",
      "text/plain": [
       "<Figure size 640x480 with 1 Axes>"
      ]
     },
     "metadata": {},
     "output_type": "display_data"
    }
   ],
   "source": [
    "import seaborn as sns\n",
    "import matplotlib.pyplot as plt\n",
    "%matplotlib inline\n",
    "sns.set()\n",
    " \n",
    "acc = hist.history['accuracy']\n",
    "val = hist.history['val_accuracy']\n",
    "epochs = range(1, len(acc) + 1)\n",
    " \n",
    "plt.plot(epochs, acc, '-', label='Training accuracy')\n",
    "plt.plot(epochs, val, ':', label='Validation accuracy')\n",
    "plt.title('Training and Validation Accuracy')\n",
    "plt.xlabel('Epoch')\n",
    "plt.ylabel('Accuracy')\n",
    "plt.legend(loc='lower right')\n",
    "plt.plot()"
   ]
  },
  {
   "cell_type": "code",
   "execution_count": 15,
   "id": "cbfbf581",
   "metadata": {},
   "outputs": [
    {
     "name": "stdout",
     "output_type": "stream",
     "text": [
      "1/1 [==============================] - 0s 74ms/step\n"
     ]
    },
    {
     "data": {
      "text/plain": [
       "0.9802105"
      ]
     },
     "execution_count": 15,
     "metadata": {},
     "output_type": "execute_result"
    }
   ],
   "source": [
    "cleaned_text = 'Why pay more for expensive meds when you can order them online and save $$$?'\n",
    "sequence = tokenizer.texts_to_sequences([cleaned_text])\n",
    "padded_sequence = keras.utils.pad_sequences(sequence, maxlen=max_length)\n",
    "model.predict(padded_sequence)[0][0]"
   ]
  },
  {
   "cell_type": "code",
   "execution_count": 16,
   "id": "003d4af6",
   "metadata": {},
   "outputs": [
    {
     "name": "stdout",
     "output_type": "stream",
     "text": [
      "sequence:\n",
      " [[525, 187, 29, 3, 1370, 737, 111, 4, 23, 109, 106, 165, 2, 329]]\n",
      "-------------------------------------------------------------------------------\n",
      "padded_sequence:\n",
      " [[   0    0    0    0    0    0    0    0    0    0    0    0    0    0\n",
      "     0    0    0    0    0    0    0    0    0    0    0    0    0    0\n",
      "     0    0    0    0    0    0    0    0    0    0    0    0    0    0\n",
      "     0    0    0    0    0    0    0    0    0    0    0    0    0    0\n",
      "     0    0    0    0    0    0    0    0    0    0    0    0    0    0\n",
      "     0    0    0    0    0    0    0    0    0    0    0    0    0    0\n",
      "     0    0    0    0    0    0    0    0    0    0    0    0    0    0\n",
      "     0    0    0    0    0    0    0    0    0    0    0    0    0    0\n",
      "     0    0    0    0    0    0    0    0    0    0    0    0    0    0\n",
      "     0    0    0    0    0    0    0    0    0    0    0    0    0    0\n",
      "     0    0    0    0    0    0    0    0    0    0    0    0    0    0\n",
      "     0    0    0    0    0    0    0    0    0    0    0    0    0    0\n",
      "     0    0    0    0    0    0    0    0    0    0    0    0    0    0\n",
      "     0    0    0    0    0    0    0    0    0    0    0    0    0    0\n",
      "     0    0    0    0    0    0    0    0    0    0    0    0    0    0\n",
      "     0    0    0    0    0    0    0    0    0    0    0    0    0    0\n",
      "     0    0    0    0    0    0    0    0    0    0    0    0    0    0\n",
      "     0    0    0    0    0    0    0    0    0    0    0    0    0    0\n",
      "     0    0    0    0    0    0    0    0    0    0    0    0    0    0\n",
      "     0    0    0    0    0    0    0    0    0    0    0    0    0    0\n",
      "     0    0    0    0    0    0    0    0    0    0    0    0    0    0\n",
      "     0    0    0    0    0    0    0    0    0    0    0    0    0    0\n",
      "     0    0    0    0    0    0    0    0    0    0    0    0    0    0\n",
      "     0    0    0    0    0    0    0    0    0    0    0    0    0    0\n",
      "     0    0    0    0    0    0    0    0    0    0    0    0    0    0\n",
      "     0    0    0    0    0    0    0    0    0    0    0    0    0    0\n",
      "     0    0    0    0    0    0    0    0    0    0    0    0    0    0\n",
      "     0    0    0    0    0    0    0    0    0    0    0    0    0    0\n",
      "     0    0    0    0    0    0    0    0    0    0    0    0    0    0\n",
      "     0    0    0    0    0    0    0    0    0    0    0    0    0    0\n",
      "     0    0    0    0    0    0    0    0    0    0    0    0    0    0\n",
      "     0    0    0    0    0    0    0    0    0    0    0    0    0    0\n",
      "     0    0    0    0    0    0    0    0    0    0    0    0    0    0\n",
      "     0    0    0    0    0    0    0    0    0    0    0    0    0    0\n",
      "     0    0    0    0    0    0    0    0    0    0  525  187   29    3\n",
      "  1370  737  111    4   23  109  106  165    2  329]]\n",
      "-------------------------------------------------------------------------------\n",
      "index position of word in tokenizer: 525 ,  word: why\n",
      "index position of word in tokenizer: 187 ,  word: pay\n",
      "index position of word in tokenizer: 29 ,  word: more\n",
      "index position of word in tokenizer: 3 ,  word: for\n",
      "index position of word in tokenizer: 1370 ,  word: expensive\n",
      "index position of word in tokenizer: 737 ,  word: meds\n",
      "index position of word in tokenizer: 111 ,  word: when\n",
      "index position of word in tokenizer: 4 ,  word: you\n",
      "index position of word in tokenizer: 23 ,  word: can\n",
      "index position of word in tokenizer: 109 ,  word: order\n",
      "index position of word in tokenizer: 106 ,  word: them\n",
      "index position of word in tokenizer: 165 ,  word: online\n",
      "index position of word in tokenizer: 2 ,  word: and\n",
      "index position of word in tokenizer: 329 ,  word: save\n"
     ]
    }
   ],
   "source": [
    "print('sequence:\\n', sequence)\n",
    "print('-'*79)\n",
    "print('padded_sequence:\\n', padded_sequence)\n",
    "print('-'*79)\n",
    "\n",
    "for ix in sequence[0]:\n",
    "    print( 'index position of word in tokenizer:', ix, ',  word:', tokenizer.index_word[ix])"
   ]
  },
  {
   "cell_type": "code",
   "execution_count": 17,
   "id": "ea4bdb89",
   "metadata": {},
   "outputs": [
    {
     "name": "stdout",
     "output_type": "stream",
     "text": [
      "1/1 [==============================] - 0s 22ms/step\n"
     ]
    },
    {
     "data": {
      "text/plain": [
       "array([[0.00996811]], dtype=float32)"
      ]
     },
     "execution_count": 17,
     "metadata": {},
     "output_type": "execute_result"
    }
   ],
   "source": [
    "cleaned_text = 'hey jon, I cannot make the meeting tomorrow. can you please send me a time that you can meet on tuesday. thanks, harry'\n",
    "sequence = tokenizer.texts_to_sequences([cleaned_text])\n",
    "padded_sequence = keras.utils.pad_sequences(sequence, maxlen=max_length)\n",
    "model.predict(padded_sequence)\n"
   ]
  },
  {
   "cell_type": "code",
   "execution_count": 18,
   "id": "1718e509",
   "metadata": {},
   "outputs": [
    {
     "name": "stdout",
     "output_type": "stream",
     "text": [
      "1/1 [==============================] - 0s 23ms/step\n"
     ]
    },
    {
     "data": {
      "text/plain": [
       "array([[0.13825096]], dtype=float32)"
      ]
     },
     "execution_count": 18,
     "metadata": {},
     "output_type": "execute_result"
    }
   ],
   "source": [
    "cleaned_text = 'Can you attend a code review on Tuesday? Need to make sure the logic is rock solid.'\n",
    "sequence = tokenizer.texts_to_sequences([cleaned_text])\n",
    "padded_sequence = keras.utils.pad_sequences(sequence, maxlen=max_length)\n",
    "model.predict(padded_sequence)"
   ]
  },
  {
   "cell_type": "code",
   "execution_count": 19,
   "id": "b94d4b7e",
   "metadata": {},
   "outputs": [
    {
     "name": "stdout",
     "output_type": "stream",
     "text": [
      "Model: \"sequential_1\"\n",
      "_________________________________________________________________\n",
      " Layer (type)                Output Shape              Param #   \n",
      "=================================================================\n",
      " embedding_2 (Embedding)     (None, 500, 32)           640000    \n",
      "                                                                 \n",
      " conv1d (Conv1D)             (None, 494, 32)           7200      \n",
      "                                                                 \n",
      " max_pooling1d (MaxPooling1D  (None, 98, 32)           0         \n",
      " )                                                               \n",
      "                                                                 \n",
      " conv1d_1 (Conv1D)           (None, 92, 32)            7200      \n",
      "                                                                 \n",
      " global_max_pooling1d (Globa  (None, 32)               0         \n",
      " lMaxPooling1D)                                                  \n",
      "                                                                 \n",
      " dense_2 (Dense)             (None, 1)                 33        \n",
      "                                                                 \n",
      "=================================================================\n",
      "Total params: 654,433\n",
      "Trainable params: 654,433\n",
      "Non-trainable params: 0\n",
      "_________________________________________________________________\n"
     ]
    }
   ],
   "source": [
    "from keras.layers import Conv1D, MaxPooling1D, GlobalMaxPooling1D\n",
    " \n",
    "model = Sequential()\n",
    "model.add(Embedding(max_words, 32, input_length=max_length))\n",
    "model.add(Conv1D(32, 7, activation='relu'))\n",
    "model.add(MaxPooling1D(5))\n",
    "model.add(Conv1D(32, 7, activation='relu'))\n",
    "model.add(GlobalMaxPooling1D())\n",
    "model.add(Dense(1, activation='sigmoid'))\n",
    "model.compile(loss='binary_crossentropy', optimizer='adam', metrics=['accuracy'])\n",
    "model.summary()"
   ]
  },
  {
   "cell_type": "code",
   "execution_count": 20,
   "id": "ae0997ca",
   "metadata": {},
   "outputs": [
    {
     "name": "stdout",
     "output_type": "stream",
     "text": [
      "Epoch 1/6\n"
     ]
    },
    {
     "name": "stderr",
     "output_type": "stream",
     "text": [
      "/Users/zacharydesario/research/NN_with_tf_3/env/lib/python3.8/site-packages/keras/engine/data_adapter.py:1699: FutureWarning: The behavior of `series[i:j]` with an integer-dtype index is deprecated. In a future version, this will be treated as *label-based* indexing, consistent with e.g. `series[i]` lookups. To retain the old behavior, use `series.iloc[i:j]`. To get the future behavior, use `series.loc[i:j]`.\n",
      "  return t[start:end]\n"
     ]
    },
    {
     "name": "stdout",
     "output_type": "stream",
     "text": [
      "40/40 [==============================] - 1s 22ms/step - loss: 0.6532 - accuracy: 0.6233 - val_loss: 0.9333 - val_accuracy: 0.0000e+00\n",
      "Epoch 2/6\n",
      "40/40 [==============================] - 1s 15ms/step - loss: 0.5207 - accuracy: 0.6508 - val_loss: 0.7561 - val_accuracy: 0.5300\n",
      "Epoch 3/6\n",
      "40/40 [==============================] - 1s 15ms/step - loss: 0.2567 - accuracy: 0.9462 - val_loss: 0.3320 - val_accuracy: 0.9500\n",
      "Epoch 4/6\n",
      "40/40 [==============================] - 1s 15ms/step - loss: 0.0560 - accuracy: 0.9912 - val_loss: 0.1322 - val_accuracy: 0.9750\n",
      "Epoch 5/6\n",
      "40/40 [==============================] - 1s 15ms/step - loss: 0.0236 - accuracy: 0.9937 - val_loss: 0.1416 - val_accuracy: 0.9600\n",
      "Epoch 6/6\n",
      "40/40 [==============================] - 1s 15ms/step - loss: 0.0158 - accuracy: 0.9962 - val_loss: 0.1016 - val_accuracy: 0.9700\n"
     ]
    }
   ],
   "source": [
    "hist = model.fit(X, y, validation_split=0.2, epochs=6, batch_size=20)"
   ]
  },
  {
   "cell_type": "code",
   "execution_count": 25,
   "id": "ae3a024a",
   "metadata": {},
   "outputs": [
    {
     "name": "stdout",
     "output_type": "stream",
     "text": [
      "1/1 [==============================] - 0s 26ms/step\n"
     ]
    },
    {
     "data": {
      "text/plain": [
       "array([[0.9545564]], dtype=float32)"
      ]
     },
     "execution_count": 25,
     "metadata": {},
     "output_type": "execute_result"
    }
   ],
   "source": [
    "cleaned_text = 'Why pay more for expensive meds when you can order them online and save $$$?'\n",
    "sequence = tokenizer.texts_to_sequences([cleaned_text])\n",
    "padded_sequence = keras.utils.pad_sequences(sequence, maxlen=max_length)\n",
    "model.predict(padded_sequence)"
   ]
  },
  {
   "cell_type": "code",
   "execution_count": 22,
   "id": "e303fe99",
   "metadata": {},
   "outputs": [
    {
     "name": "stdout",
     "output_type": "stream",
     "text": [
      "1/1 [==============================] - 0s 22ms/step\n"
     ]
    },
    {
     "data": {
      "text/plain": [
       "array([[0.03655041]], dtype=float32)"
      ]
     },
     "execution_count": 22,
     "metadata": {},
     "output_type": "execute_result"
    }
   ],
   "source": [
    "cleaned_text = 'hey jon, I cannot make the meeting tomorrow. can you please send me a time that you can meet on tuesday. thanks, harry'\n",
    "sequence = tokenizer.texts_to_sequences([cleaned_text])\n",
    "padded_sequence = keras.utils.pad_sequences(sequence, maxlen=max_length)\n",
    "model.predict(padded_sequence)\n",
    "\n"
   ]
  },
  {
   "cell_type": "code",
   "execution_count": 23,
   "id": "c5732774",
   "metadata": {},
   "outputs": [
    {
     "name": "stdout",
     "output_type": "stream",
     "text": [
      "1/1 [==============================] - 0s 37ms/step\n"
     ]
    },
    {
     "data": {
      "text/plain": [
       "array([[0.8302307]], dtype=float32)"
      ]
     },
     "execution_count": 23,
     "metadata": {},
     "output_type": "execute_result"
    }
   ],
   "source": [
    "cleaned_text = 'Can you attend a code review on Tuesday? Need to make sure the logic is rock solid.'\n",
    "sequence = tokenizer.texts_to_sequences([cleaned_text])\n",
    "padded_sequence = keras.utils.pad_sequences(sequence, maxlen=max_length)\n",
    "model.predict(padded_sequence)"
   ]
  },
  {
   "cell_type": "code",
   "execution_count": 24,
   "id": "a41b4cb7",
   "metadata": {},
   "outputs": [
    {
     "name": "stdout",
     "output_type": "stream",
     "text": [
      "23 can\n",
      "4 you\n",
      "982 attend\n",
      "847 code\n",
      "167 review\n",
      "391 tuesday\n",
      "49 need\n",
      "99 make\n",
      "668 sure\n",
      "1 the\n",
      "4163 rock\n",
      "1845 solid\n"
     ]
    }
   ],
   "source": [
    "for ix in sequence[0]:\n",
    "    print( ix, tokenizer.index_word[ix])"
   ]
  },
  {
   "cell_type": "code",
   "execution_count": null,
   "id": "360be730",
   "metadata": {},
   "outputs": [],
   "source": []
  }
 ],
 "metadata": {
  "kernelspec": {
   "display_name": "Python 3 (ipykernel)",
   "language": "python",
   "name": "python3"
  },
  "language_info": {
   "codemirror_mode": {
    "name": "ipython",
    "version": 3
   },
   "file_extension": ".py",
   "mimetype": "text/x-python",
   "name": "python",
   "nbconvert_exporter": "python",
   "pygments_lexer": "ipython3",
   "version": "3.8.5"
  }
 },
 "nbformat": 4,
 "nbformat_minor": 5
}
