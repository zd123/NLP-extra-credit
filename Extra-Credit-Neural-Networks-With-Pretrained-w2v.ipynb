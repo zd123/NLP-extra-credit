{
 "cells": [
  {
   "cell_type": "markdown",
   "id": "d4ede737",
   "metadata": {},
   "source": [
    "1. Create a virtual env.\n",
    "\n",
    "```\n",
    "mkdir env\n",
    "python3 -m venv env/\n",
    "\n",
    "source env/bin/activate\n",
    "\n",
    "```\n",
    "2. Install the packages in requirements.\n",
    "3. Have fun!\n",
    "\n"
   ]
  },
  {
   "cell_type": "code",
   "execution_count": 22,
   "id": "1d7c833d",
   "metadata": {},
   "outputs": [
    {
     "data": {
      "text/html": [
       "<div>\n",
       "<style scoped>\n",
       "    .dataframe tbody tr th:only-of-type {\n",
       "        vertical-align: middle;\n",
       "    }\n",
       "\n",
       "    .dataframe tbody tr th {\n",
       "        vertical-align: top;\n",
       "    }\n",
       "\n",
       "    .dataframe thead th {\n",
       "        text-align: right;\n",
       "    }\n",
       "</style>\n",
       "<table border=\"1\" class=\"dataframe\">\n",
       "  <thead>\n",
       "    <tr style=\"text-align: right;\">\n",
       "      <th></th>\n",
       "      <th>IsSpam</th>\n",
       "      <th>Text</th>\n",
       "    </tr>\n",
       "  </thead>\n",
       "  <tbody>\n",
       "    <tr>\n",
       "      <th>0</th>\n",
       "      <td>0</td>\n",
       "      <td>key issues going forwarda year end reviews rep...</td>\n",
       "    </tr>\n",
       "    <tr>\n",
       "      <th>1</th>\n",
       "      <td>0</td>\n",
       "      <td>congrats contratulations the execution the cen...</td>\n",
       "    </tr>\n",
       "    <tr>\n",
       "      <th>2</th>\n",
       "      <td>0</td>\n",
       "      <td>key issues going forwardall under control set...</td>\n",
       "    </tr>\n",
       "    <tr>\n",
       "      <th>3</th>\n",
       "      <td>0</td>\n",
       "      <td>epmi files protest entergy transcoattached our...</td>\n",
       "    </tr>\n",
       "    <tr>\n",
       "      <th>4</th>\n",
       "      <td>0</td>\n",
       "      <td>california power please contact kristin walsh ...</td>\n",
       "    </tr>\n",
       "  </tbody>\n",
       "</table>\n",
       "</div>"
      ],
      "text/plain": [
       "   IsSpam                                               Text\n",
       "0       0  key issues going forwarda year end reviews rep...\n",
       "1       0  congrats contratulations the execution the cen...\n",
       "2       0   key issues going forwardall under control set...\n",
       "3       0  epmi files protest entergy transcoattached our...\n",
       "4       0  california power please contact kristin walsh ..."
      ]
     },
     "execution_count": 22,
     "metadata": {},
     "output_type": "execute_result"
    }
   ],
   "source": [
    "from keras.preprocessing.text import Tokenizer\n",
    "from keras.layers import Dense, Flatten\n",
    "from tensorflow.keras.layers import Embedding\n",
    "from keras.models import Sequential\n",
    "from keras.layers import Dense, Conv1D, MaxPooling1D, GlobalMaxPooling1D\n",
    "from keras.layers import Dense, Input, Flatten\n",
    "\n",
    "from keras.utils import pad_sequences\n",
    "from keras.utils.np_utils import to_categorical\n",
    "import pandas as pd\n",
    "\n",
    "from tqdm import tqdm\n",
    "import numpy as np\n",
    "\n",
    "\n",
    "df = pd.read_csv('data/ham-vs-spam.csv')\n",
    "df.head()"
   ]
  },
  {
   "cell_type": "code",
   "execution_count": 11,
   "id": "93b9ac27",
   "metadata": {},
   "outputs": [
    {
     "data": {
      "text/html": [
       "<div>\n",
       "<style scoped>\n",
       "    .dataframe tbody tr th:only-of-type {\n",
       "        vertical-align: middle;\n",
       "    }\n",
       "\n",
       "    .dataframe tbody tr th {\n",
       "        vertical-align: top;\n",
       "    }\n",
       "\n",
       "    .dataframe thead tr th {\n",
       "        text-align: left;\n",
       "    }\n",
       "\n",
       "    .dataframe thead tr:last-of-type th {\n",
       "        text-align: right;\n",
       "    }\n",
       "</style>\n",
       "<table border=\"1\" class=\"dataframe\">\n",
       "  <thead>\n",
       "    <tr>\n",
       "      <th></th>\n",
       "      <th colspan=\"4\" halign=\"left\">Text</th>\n",
       "    </tr>\n",
       "    <tr>\n",
       "      <th></th>\n",
       "      <th>count</th>\n",
       "      <th>unique</th>\n",
       "      <th>top</th>\n",
       "      <th>freq</th>\n",
       "    </tr>\n",
       "    <tr>\n",
       "      <th>IsSpam</th>\n",
       "      <th></th>\n",
       "      <th></th>\n",
       "      <th></th>\n",
       "      <th></th>\n",
       "    </tr>\n",
       "  </thead>\n",
       "  <tbody>\n",
       "    <tr>\n",
       "      <th>0</th>\n",
       "      <td>499</td>\n",
       "      <td>499</td>\n",
       "      <td>key issues going forwarda year end reviews rep...</td>\n",
       "      <td>1</td>\n",
       "    </tr>\n",
       "    <tr>\n",
       "      <th>1</th>\n",
       "      <td>500</td>\n",
       "      <td>500</td>\n",
       "      <td>take the reinsbecomeyour employer substantial ...</td>\n",
       "      <td>1</td>\n",
       "    </tr>\n",
       "  </tbody>\n",
       "</table>\n",
       "</div>"
      ],
      "text/plain": [
       "        Text                                                               \n",
       "       count unique                                                top freq\n",
       "IsSpam                                                                     \n",
       "0        499    499  key issues going forwarda year end reviews rep...    1\n",
       "1        500    500  take the reinsbecomeyour employer substantial ...    1"
      ]
     },
     "execution_count": 11,
     "metadata": {},
     "output_type": "execute_result"
    }
   ],
   "source": [
    "df = df.drop_duplicates()\n",
    "df.groupby('IsSpam').describe()"
   ]
  },
  {
   "cell_type": "markdown",
   "id": "d04676a5",
   "metadata": {},
   "source": [
    "# Using pretrained word2vec vectors"
   ]
  },
  {
   "cell_type": "code",
   "execution_count": 12,
   "id": "38155d57",
   "metadata": {},
   "outputs": [
    {
     "name": "stderr",
     "output_type": "stream",
     "text": [
      "400000it [00:08, 49214.40it/s]"
     ]
    },
    {
     "name": "stdout",
     "output_type": "stream",
     "text": [
      "\n",
      "Found 400000 word vectors.\n",
      "CPU times: user 7.82 s, sys: 653 ms, total: 8.47 s\n",
      "Wall time: 8.64 s\n"
     ]
    },
    {
     "name": "stderr",
     "output_type": "stream",
     "text": [
      "\n"
     ]
    }
   ],
   "source": [
    "# https://www.kaggle.com/datasets/danielwillgeorge/glove6b100dtxt\n",
    "\n",
    "%%time\n",
    "embeddings_index = {}\n",
    "\n",
    "path = 'models/'\n",
    "\n",
    "f = open(path+'glove.6B.100d.txt')\n",
    "\n",
    "for line in tqdm(f):\n",
    "    values = line.split(' ')\n",
    "    word = values[0]\n",
    "    coefs = np.asarray(values[1:], dtype='float32')\n",
    "    embeddings_index[word] = coefs\n",
    "f.close()\n",
    "\n",
    "print ()\n",
    "print ('Found %s word vectors.' % len(embeddings_index))"
   ]
  },
  {
   "cell_type": "markdown",
   "id": "179a2aef",
   "metadata": {},
   "source": [
    "### This is what the file glove.6B.100d.txt looks like:\n",
    "```\n",
    "the -0.038194 -0.24487 0.72812...\n",
    "of -0.1529 -0.24279 0.89837...\n",
    "and -0.071953 0.23127 0.023731...\n",
    "in 0.085703 -0.22201 0.16569...\n",
    "a -0.27086 0.044006 -0.02026...\n",
    "for -0.14401 0.32554 0.14257...\n",
    "```"
   ]
  },
  {
   "cell_type": "code",
   "execution_count": 18,
   "id": "2b5e516e",
   "metadata": {},
   "outputs": [],
   "source": [
    "X = df['Text']\n",
    "y = df['IsSpam']\n",
    "\n",
    "X_text = X\n",
    "\n",
    "\n",
    "\n",
    "max_words = 20000\n",
    "MAX_SEQUENCE_LENGTH = 500\n",
    "\n",
    "tokenizer = Tokenizer(num_words=max_words)\n",
    "tokenizer.fit_on_texts(X)\n",
    "sequences = tokenizer.texts_to_sequences(X)\n",
    "\n",
    "X = pad_sequences(sequences, maxlen=MAX_SEQUENCE_LENGTH)\n",
    "\n",
    "y = to_categorical(np.array(y))"
   ]
  },
  {
   "cell_type": "code",
   "execution_count": 19,
   "id": "b524f05b",
   "metadata": {
    "scrolled": true
   },
   "outputs": [
    {
     "name": "stdout",
     "output_type": "stream",
     "text": [
      "26187\n"
     ]
    }
   ],
   "source": [
    "word_index = tokenizer.word_index\n",
    "print(len(word_index))"
   ]
  },
  {
   "cell_type": "code",
   "execution_count": 20,
   "id": "83d3f3d0",
   "metadata": {},
   "outputs": [
    {
     "name": "stdout",
     "output_type": "stream",
     "text": [
      "(26188, 100)\n",
      "[0.92889177 0.16019044 0.17384576 0.28648751 0.66645798 0.67291318\n",
      " 0.40877759 0.96809338 0.54092357 0.32167323]\n"
     ]
    }
   ],
   "source": [
    "## HIS CODE\n",
    "EMBEDDING_DIM = 100\n",
    "\n",
    "embedding_matrix = np.random.random((len(word_index) + 1, EMBEDDING_DIM))\n",
    "\n",
    "for word, i in word_index.items():\n",
    "  embedding_vector = embeddings_index.get(word)\n",
    "  if embedding_vector is not None:\n",
    "    # words not found in embedding index will be all-zeros.\n",
    "    embedding_matrix[i] = embedding_vector\n",
    "\n",
    "print (embedding_matrix.shape)\n",
    "\n",
    "print (embedding_matrix[0][:10])"
   ]
  },
  {
   "cell_type": "code",
   "execution_count": 26,
   "id": "51f6f098",
   "metadata": {},
   "outputs": [],
   "source": []
  },
  {
   "cell_type": "code",
   "execution_count": 33,
   "id": "23746bb2",
   "metadata": {},
   "outputs": [
    {
     "name": "stdout",
     "output_type": "stream",
     "text": [
      "Model: \"sequential_4\"\n",
      "_________________________________________________________________\n",
      " Layer (type)                Output Shape              Param #   \n",
      "=================================================================\n",
      " embedding_6 (Embedding)     (None, 500, 100)          2618800   \n",
      "                                                                 \n",
      " conv1d_3 (Conv1D)           (None, 496, 128)          64128     \n",
      "                                                                 \n",
      " max_pooling1d_2 (MaxPooling  (None, 248, 128)         0         \n",
      " 1D)                                                             \n",
      "                                                                 \n",
      " flatten_1 (Flatten)         (None, 31744)             0         \n",
      "                                                                 \n",
      " dense_2 (Dense)             (None, 2)                 63490     \n",
      "                                                                 \n",
      "=================================================================\n",
      "Total params: 2,746,418\n",
      "Trainable params: 127,618\n",
      "Non-trainable params: 2,618,800\n",
      "_________________________________________________________________\n",
      "None\n"
     ]
    }
   ],
   "source": [
    "embedding_layer = Embedding(len(word_index)+1, \n",
    "                            100, weights=[embedding_matrix], input_length=MAX_SEQUENCE_LENGTH, trainable=False)\n",
    "\n",
    "model = Sequential()\n",
    "model.add(embedding_layer)\n",
    "model.add(Conv1D(filters=128, kernel_size=5, activation='relu'))\n",
    "model.add(MaxPooling1D(pool_size=2))\n",
    "model.add(Flatten())\n",
    "model.add(Dense(2, activation='sigmoid'))\n",
    "print(model.summary())\n"
   ]
  },
  {
   "cell_type": "code",
   "execution_count": 35,
   "id": "9c3f9071",
   "metadata": {},
   "outputs": [
    {
     "name": "stdout",
     "output_type": "stream",
     "text": [
      "Epoch 1/20\n",
      "7/7 [==============================] - 1s 148ms/step - loss: 0.3539 - accuracy: 0.8323 - val_loss: 0.3734 - val_accuracy: 0.9150\n",
      "Epoch 2/20\n",
      "7/7 [==============================] - 1s 122ms/step - loss: 0.2375 - accuracy: 0.9237 - val_loss: 0.6880 - val_accuracy: 0.6650\n",
      "Epoch 3/20\n",
      "7/7 [==============================] - 1s 122ms/step - loss: 0.1644 - accuracy: 0.9587 - val_loss: 0.4977 - val_accuracy: 0.7850\n",
      "Epoch 4/20\n",
      "7/7 [==============================] - 1s 116ms/step - loss: 0.1226 - accuracy: 0.9637 - val_loss: 0.5696 - val_accuracy: 0.8000\n",
      "Epoch 5/20\n",
      "7/7 [==============================] - 1s 123ms/step - loss: 0.1033 - accuracy: 0.9662 - val_loss: 0.6046 - val_accuracy: 0.7300\n",
      "Epoch 6/20\n",
      "7/7 [==============================] - 1s 126ms/step - loss: 0.0791 - accuracy: 0.9775 - val_loss: 0.5392 - val_accuracy: 0.8200\n",
      "Epoch 7/20\n",
      "7/7 [==============================] - 1s 126ms/step - loss: 0.0684 - accuracy: 0.9775 - val_loss: 0.5167 - val_accuracy: 0.8050\n",
      "Epoch 8/20\n",
      "7/7 [==============================] - 1s 126ms/step - loss: 0.0547 - accuracy: 0.9875 - val_loss: 0.5352 - val_accuracy: 0.8300\n",
      "Epoch 9/20\n",
      "7/7 [==============================] - 1s 128ms/step - loss: 0.0443 - accuracy: 0.9900 - val_loss: 0.5286 - val_accuracy: 0.8700\n",
      "Epoch 10/20\n",
      "7/7 [==============================] - 1s 130ms/step - loss: 0.0356 - accuracy: 0.9912 - val_loss: 0.2928 - val_accuracy: 0.9250\n",
      "Epoch 11/20\n",
      "7/7 [==============================] - 1s 130ms/step - loss: 0.0313 - accuracy: 0.9962 - val_loss: 0.6732 - val_accuracy: 0.8050\n",
      "Epoch 12/20\n",
      "7/7 [==============================] - 1s 127ms/step - loss: 0.0275 - accuracy: 0.9975 - val_loss: 0.5347 - val_accuracy: 0.8700\n",
      "Epoch 13/20\n",
      "7/7 [==============================] - 1s 138ms/step - loss: 0.0217 - accuracy: 0.9962 - val_loss: 0.4835 - val_accuracy: 0.8950\n",
      "Epoch 14/20\n",
      "7/7 [==============================] - 1s 143ms/step - loss: 0.0202 - accuracy: 0.9950 - val_loss: 0.4067 - val_accuracy: 0.9150\n",
      "Epoch 15/20\n",
      "7/7 [==============================] - 1s 171ms/step - loss: 0.0198 - accuracy: 0.9975 - val_loss: 0.7432 - val_accuracy: 0.8250\n",
      "Epoch 16/20\n",
      "7/7 [==============================] - 2s 223ms/step - loss: 0.0151 - accuracy: 0.9987 - val_loss: 0.3658 - val_accuracy: 0.9250\n",
      "Epoch 17/20\n",
      "7/7 [==============================] - 2s 215ms/step - loss: 0.0154 - accuracy: 0.9975 - val_loss: 0.7714 - val_accuracy: 0.8100\n",
      "Epoch 18/20\n",
      "7/7 [==============================] - 2s 218ms/step - loss: 0.0133 - accuracy: 0.9987 - val_loss: 0.5929 - val_accuracy: 0.8800\n",
      "Epoch 19/20\n",
      "7/7 [==============================] - 1s 147ms/step - loss: 0.0107 - accuracy: 0.9987 - val_loss: 0.5773 - val_accuracy: 0.8700\n",
      "Epoch 20/20\n",
      "7/7 [==============================] - 1s 129ms/step - loss: 0.0096 - accuracy: 0.9987 - val_loss: 0.4980 - val_accuracy: 0.9000\n"
     ]
    }
   ],
   "source": [
    "model.compile(loss='binary_crossentropy', optimizer='adam', metrics=['accuracy'])\n",
    "history = model.fit(X, y,validation_split=0.2, epochs=20, batch_size=128)"
   ]
  },
  {
   "cell_type": "code",
   "execution_count": 69,
   "id": "f706658a",
   "metadata": {},
   "outputs": [
    {
     "name": "stdout",
     "output_type": "stream",
     "text": [
      "Model: \"sequential_10\"\n",
      "_________________________________________________________________\n",
      " Layer (type)                Output Shape              Param #   \n",
      "=================================================================\n",
      " embedding_17 (Embedding)    (None, 500, 32)           640000    \n",
      "                                                                 \n",
      " flatten_6 (Flatten)         (None, 16000)             0         \n",
      "                                                                 \n",
      " dense_11 (Dense)            (None, 128)               2048128   \n",
      "                                                                 \n",
      " dense_12 (Dense)            (None, 2)                 258       \n",
      "                                                                 \n",
      "=================================================================\n",
      "Total params: 2,688,386\n",
      "Trainable params: 2,688,386\n",
      "Non-trainable params: 0\n",
      "_________________________________________________________________\n"
     ]
    }
   ],
   "source": [
    "embedding_layer = Embedding(len(word_index)+1, \n",
    "                            100, weights=[embedding_matrix], input_length=MAX_SEQUENCE_LENGTH, trainable=False)\n",
    "\n",
    "\n",
    "model = Sequential() \n",
    "model.add(Embedding(max_words, 32, input_length=MAX_SEQUENCE_LENGTH)) \n",
    "model.add(Flatten())\n",
    "model.add(Dense(128, activation='relu'))\n",
    "model.add(Dense(2, activation='sigmoid'))\n",
    "model.compile(loss='binary_crossentropy', optimizer='adam', metrics=['accuracy']) \n",
    "model.summary()\n",
    "\n"
   ]
  },
  {
   "cell_type": "code",
   "execution_count": 70,
   "id": "835d5302",
   "metadata": {},
   "outputs": [
    {
     "name": "stdout",
     "output_type": "stream",
     "text": [
      "Epoch 1/10\n",
      "7/7 [==============================] - 1s 54ms/step - loss: 0.6814 - accuracy: 0.6120 - val_loss: 0.6887 - val_accuracy: 0.7000\n",
      "Epoch 2/10\n",
      "7/7 [==============================] - 0s 35ms/step - loss: 0.6203 - accuracy: 0.6333 - val_loss: 0.8989 - val_accuracy: 0.0000e+00\n",
      "Epoch 3/10\n",
      "7/7 [==============================] - 0s 29ms/step - loss: 0.5402 - accuracy: 0.6671 - val_loss: 0.7619 - val_accuracy: 0.6050\n",
      "Epoch 4/10\n",
      "7/7 [==============================] - 0s 30ms/step - loss: 0.4432 - accuracy: 0.8123 - val_loss: 0.7724 - val_accuracy: 0.5900\n",
      "Epoch 5/10\n",
      "7/7 [==============================] - 0s 28ms/step - loss: 0.3386 - accuracy: 0.9424 - val_loss: 0.7454 - val_accuracy: 0.6050\n",
      "Epoch 6/10\n",
      "7/7 [==============================] - 0s 33ms/step - loss: 0.2388 - accuracy: 0.9800 - val_loss: 0.6946 - val_accuracy: 0.6350\n",
      "Epoch 7/10\n",
      "7/7 [==============================] - 0s 28ms/step - loss: 0.1508 - accuracy: 0.9875 - val_loss: 0.4062 - val_accuracy: 0.9050\n",
      "Epoch 8/10\n",
      "7/7 [==============================] - 0s 27ms/step - loss: 0.0845 - accuracy: 0.9937 - val_loss: 0.4763 - val_accuracy: 0.7950\n",
      "Epoch 9/10\n",
      "7/7 [==============================] - 0s 30ms/step - loss: 0.0470 - accuracy: 0.9937 - val_loss: 0.4159 - val_accuracy: 0.8250\n",
      "Epoch 10/10\n",
      "7/7 [==============================] - 0s 25ms/step - loss: 0.0285 - accuracy: 0.9987 - val_loss: 0.2616 - val_accuracy: 0.9300\n"
     ]
    }
   ],
   "source": [
    "history = model.fit(X, y,validation_split=0.2, epochs=10, batch_size=128)"
   ]
  },
  {
   "cell_type": "code",
   "execution_count": 76,
   "id": "4bab01eb",
   "metadata": {},
   "outputs": [
    {
     "name": "stdout",
     "output_type": "stream",
     "text": [
      "Why pay more for expensive meds when you can order them online and save $$$?\n",
      "1/1 [==============================] - 0s 27ms/step\n"
     ]
    },
    {
     "data": {
      "text/plain": [
       "array([[0.14961217, 0.8496825 ]], dtype=float32)"
      ]
     },
     "execution_count": 76,
     "metadata": {},
     "output_type": "execute_result"
    }
   ],
   "source": [
    "cleaned_text = 'Why pay more for expensive meds when you can order them online and save $$$?'\n",
    "print(cleaned_text)\n",
    "\n",
    "sequence = tokenizer.texts_to_sequences([cleaned_text])\n",
    "padded_sequence = keras.utils.pad_sequences(sequence, maxlen=MAX_SEQUENCE_LENGTH)\n",
    "model.predict(padded_sequence)"
   ]
  },
  {
   "cell_type": "code",
   "execution_count": 77,
   "id": "44adb109",
   "metadata": {},
   "outputs": [
    {
     "name": "stdout",
     "output_type": "stream",
     "text": [
      "hey jon, I cannot make the meeting tomorrow. can you please send me a time that you can meet on tuesday. thanks, harry\n",
      "1/1 [==============================] - 0s 38ms/step\n"
     ]
    },
    {
     "data": {
      "text/plain": [
       "array([[0.86722744, 0.18174823]], dtype=float32)"
      ]
     },
     "execution_count": 77,
     "metadata": {},
     "output_type": "execute_result"
    }
   ],
   "source": [
    "cleaned_text = 'hey jon, I cannot make the meeting tomorrow. can you please send me a time that you can meet on tuesday. thanks, harry'\n",
    "print(cleaned_text)\n",
    "\n",
    "sequence = tokenizer.texts_to_sequences([cleaned_text])\n",
    "padded_sequence = keras.utils.pad_sequences(sequence, maxlen=MAX_SEQUENCE_LENGTH)\n",
    "model.predict(padded_sequence)\n",
    "\n"
   ]
  },
  {
   "cell_type": "code",
   "execution_count": 78,
   "id": "940f724c",
   "metadata": {},
   "outputs": [
    {
     "name": "stdout",
     "output_type": "stream",
     "text": [
      "Can you attend a code review on Tuesday? Need to make sure the logic is rock solid.\n",
      "1/1 [==============================] - 0s 40ms/step\n"
     ]
    },
    {
     "data": {
      "text/plain": [
       "array([[0.7578366 , 0.30653045]], dtype=float32)"
      ]
     },
     "execution_count": 78,
     "metadata": {},
     "output_type": "execute_result"
    }
   ],
   "source": [
    "cleaned_text = 'Can you attend a code review on Tuesday? Need to make sure the logic is rock solid.'\n",
    "print(cleaned_text)\n",
    "\n",
    "sequence = tokenizer.texts_to_sequences([cleaned_text])\n",
    "padded_sequence = keras.utils.pad_sequences(sequence, maxlen=MAX_SEQUENCE_LENGTH)\n",
    "model.predict(padded_sequence)"
   ]
  },
  {
   "cell_type": "code",
   "execution_count": 79,
   "id": "e49064bd",
   "metadata": {},
   "outputs": [
    {
     "name": "stdout",
     "output_type": "stream",
     "text": [
      "california power please contact kristin walsh robert johnston for further clarification executive summary utility bankruptcy appears increasingly likely next week unless the state can clear three hurdles agreement payback for the bailout rate increases and further short term funding for dwr purchases power disagreement persists between gov davis and democrats the legislature how the state should paid back for its bailout the utilities the split over stock warrant plan versus state ownership utility transmission assets the economics the long term contracts appear show that rate hikes are unavoidable because the need amortize the undercollected rates the utilities during the recent rate freeze period air quality management district regulations are under review but offer limited scope for providing additional generation capacity legislature democrats are feeling intense pressure from the left wing consumer groups and are being forced least slow not stop davis bailout and rate hike plans senator burton eminent domain threats against generators which reflect this pressure are little significance bankruptcy outlook rising once againa deal finalize debt workout continues just beyond the reach the state the utilities and their creditors with time running out the debt forbearance arrangement set expire tuesday socal edison and are not paying any their bills except for payroll they are working very hard keep cash hand and have indicated that they feel that they are very close involuntary bankruptcy filing once this filing occurs they will have days until either the bankruptcy court accepts the filing the utilities file voluntary bankruptcy opinion within the assembly divided with respect the outlook for bankruptcy assemblyman keeley told our source that filing likely but that everything will resolved during that day period senator john burton hurry reach deal with the utilities believes that the state california good position strong arm the utilities burton currently does not intend cede the utilities that they can avoid bankruptcy the senator stated bankruptcy would bad but not the worst thing possible intends stick his position senator burton also dismissed governor davis end week deadline for striking deal with the utilities still bankruptcy can avoided last minute deal can struck monday what the state receives return for the bailoutthe scope rate hikes federal court expected rule the socal cpuc rate undercollection case monday additional financing made available the dwr buy more power until the revenue bonds can issued may there possibility that significant progress these issues could lead further extension creditor forbearance however the negative tone taken standard poors and others concerning delays the legislature suggest that further forbearance will difficult achieve the previous forbearance period was only achieved via high level washington summit which does not appear likely happen this weekend additional financing for dwr will not automatically approved the legislature the non energy expenditures the california government are now risk there not yet rate structure place recover the costs being expended power from the general fund state take utility debtwhile the state seems have succeeded forcing the utility parents eat close one third the billion debt final deal has been held two fronts first still unclear what the state will get return for the utility debt possible that there will mix stock warrants and transmission assets takeover the transmission assets seems more likely than takeover the hydro assets the value these assets still has not been settled second while the state will the hook for billion not clear what mixture rate hikes and revenue bonds will used recover the cost the bailout finally expect davis and other california politicians work minimize rate hikes although the edison cpuc case monday likely force their hand here and everything possible avoid the appearance bailout the tangible transmission assets are more politically attractive than the nebulous stock warrants price has been set which the state would purchase the utilities transmission assets which are currently valued approximately billion all the proceeds though cannot used pay off the utilities debts some the money would existing bondholders however ipp sources advise that there already bid the table for these transmission assets that higher than what the state would offer long term contractsas noted the governor his announcement tuesday only the power contracted for can come line immediately much the remainder reportedly was contracted long term purchases from suppliers who are building power plants some this will come line approximately two years assemblyman keeley expressed frustration that has received tablet from high from governor davis that there must not rate increase this means that the state must acquire power not from internal sources from the market but through long term contracts cents kwh this allows cents amortize socal edison undercollection from the recent rate freeze period the number slightly different for this assumption based natural gas price and and efficiency heating rate and these numbers were quoted industry sources who felt they were unrealistic these sources quoted the price natural gas the sources agreed with keeley number for the efficiency heating rate but they felt that was very optimistic unless enormous amount new generation capacity comes line according keeley numbers and assuming the filed rate case settled billion rather than billion would take years amortize all the utility undercollection settlement this case will need reached that the state can figure out how much charge for power order amortize the undercollection however since assemblyman keeley numbers are unrealistic rate increase will necessary air quality district exemptionsthere have been few bills introduced provide exemptions from aqmd air quality management district regulations also republicans have been asking the governor lift the environmental regulations and immediately site the facility san jose that was denied the local government currently there contemplation loosening the aqmd compliance restrictions the legislature will not allow dirtier plants tocome line however there might change the means implementation southern california moving away from theuse credits this apparently drives the cost gas fired power democratic moderates pressured consumer advocatesthe moderate left sen burton the puc consumer activists afraid harvey rosenfield and his consumers movement this not just because his initiative more important from their perspective his initiative puts him and the far left position challenge and defeat the moderates the next election thus democrats the legislature will feel pressured distance themselves from davis and slow down any further rate increases bailout eminent domain would have limited effectthe threats burton seize generation assets insure continued power supply are limited they only apply california suppliers afederal order would needed seize assets from out state suppliers there are also canadian suppliers such hydro who are essentially untouchable smaller ipps feeling the squeezemany the smaller ipps which account for approximately production appear within few days running out cash may amended possibly sometime this week give the smaller producers credit support \n",
      "1/1 [==============================] - 0s 30ms/step\n"
     ]
    },
    {
     "data": {
      "text/plain": [
       "array([[1., 0.]], dtype=float32)"
      ]
     },
     "execution_count": 79,
     "metadata": {},
     "output_type": "execute_result"
    }
   ],
   "source": [
    "cleaned_text = df[df.IsSpam==0]['Text'].iloc[0:5].values[4]\n",
    "print(cleaned_text)\n",
    "\n",
    "# cleaned_text = 'important news for usavity customers dear cheapsoft customer name annie kincaid and work cheapsoft llc you are important you spend your money and time cheapsoft and want let you know that have finished update our programs store want remind you that are offering now more than popularsoftware for low price with your personal customer discount please spend few moments yours precious time check our updated softwarestore http www dutyfreesoft all infowith regards customer service department annie kincaid'\n",
    "sequence = tokenizer.texts_to_sequences([cleaned_text])\n",
    "padded_sequence = keras.utils.pad_sequences(sequence, maxlen=MAX_SEQUENCE_LENGTH)\n",
    "model.predict(padded_sequence).round(3)"
   ]
  },
  {
   "cell_type": "code",
   "execution_count": null,
   "id": "60393752",
   "metadata": {},
   "outputs": [],
   "source": []
  }
 ],
 "metadata": {
  "kernelspec": {
   "display_name": "Python 3 (ipykernel)",
   "language": "python",
   "name": "python3"
  },
  "language_info": {
   "codemirror_mode": {
    "name": "ipython",
    "version": 3
   },
   "file_extension": ".py",
   "mimetype": "text/x-python",
   "name": "python",
   "nbconvert_exporter": "python",
   "pygments_lexer": "ipython3",
   "version": "3.8.5"
  }
 },
 "nbformat": 4,
 "nbformat_minor": 5
}
